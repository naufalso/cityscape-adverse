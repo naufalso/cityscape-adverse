{
 "cells": [
  {
   "cell_type": "code",
   "execution_count": 1,
   "metadata": {},
   "outputs": [],
   "source": [
    "import os\n",
    "import json\n",
    "import shutil\n",
    "from tqdm import tqdm\n",
    "from PIL import Image"
   ]
  },
  {
   "cell_type": "code",
   "execution_count": 2,
   "metadata": {},
   "outputs": [
    {
     "name": "stdout",
     "output_type": "stream",
     "text": [
      "(2048, 1024)\n"
     ]
    }
   ],
   "source": [
    "test_image_path = \"/home/islab-ai/naufal/mmsegmentation/data/cityscapes/leftImg8bit/train/aachen/aachen_000000_000019_leftImg8bit.png\"\n",
    "test_image = Image.open(test_image_path)\n",
    "original_size = test_image.size\n",
    "print(original_size)"
   ]
  },
  {
   "cell_type": "code",
   "execution_count": 8,
   "metadata": {},
   "outputs": [],
   "source": [
    "cityscape_mural_train_path = \"/home/islab-ai/naufal/mmsegmentation/data/cityscapes/ood_dataset/filtered_list/cityscape_mural\"\n",
    "cityscape_mural_val_path = \"/home/islab-ai/naufal/mmsegmentation/data/cityscapes/ood_dataset/filtered_list/cityscape_mural_val\"\n",
    "\n",
    "cityscape_mural_train_image_path = \"/home/islab-ai/naufal/mmsegmentation/data/cityscapes/ood_dataset/train/cityscape_mural\"\n",
    "cityscape_mural_val_image_path = \"/home/islab-ai/naufal/mmsegmentation/data/cityscapes/ood_dataset/val/cityscape_mural\""
   ]
  },
  {
   "cell_type": "code",
   "execution_count": 4,
   "metadata": {},
   "outputs": [
    {
     "name": "stdout",
     "output_type": "stream",
     "text": [
      "Cityscape Mural Train Accepted: 1013\n",
      "Cityscape Mural Train Rejected: 8293\n",
      "Cityscape Mural Val Accepted: 369\n",
      "Cityscape Mural Val Rejected: 1674\n"
     ]
    }
   ],
   "source": [
    "cityscape_mural_train_accepted_list = [\n",
    "    filename for filename in os.listdir(cityscape_mural_train_path) if filename.endswith(\".json\")\n",
    "]\n",
    "cityscape_mural_train_rejected_list = [\n",
    "    filename for filename in os.listdir(os.path.join(cityscape_mural_train_path, \"unused\")) if filename.endswith(\".json\")\n",
    "]\n",
    "\n",
    "cityscape_mural_val_accepted_list = [\n",
    "    filename for filename in os.listdir(cityscape_mural_val_path) if filename.endswith(\".json\")\n",
    "]\n",
    "cityscape_mural_val_rejected_list = [\n",
    "    filename for filename in os.listdir(os.path.join(cityscape_mural_val_path, \"unused\")) if filename.endswith(\".json\")\n",
    "]\n",
    "\n",
    "print(f\"Cityscape Mural Train Accepted: {len(cityscape_mural_train_accepted_list)}\")\n",
    "print(f\"Cityscape Mural Train Rejected: {len(cityscape_mural_train_rejected_list)}\")\n",
    "print(f\"Cityscape Mural Val Accepted: {len(cityscape_mural_val_accepted_list)}\")\n",
    "print(f\"Cityscape Mural Val Rejected: {len(cityscape_mural_val_rejected_list)}\")"
   ]
  },
  {
   "cell_type": "code",
   "execution_count": 7,
   "metadata": {},
   "outputs": [
    {
     "name": "stderr",
     "output_type": "stream",
     "text": [
      "Processing Cityscape Mural Train Accepted: 100%|██████████| 1013/1013 [14:00<00:00,  1.21it/s]\n"
     ]
    }
   ],
   "source": [
    "processed_cityscape_mural_train_path = \"/home/islab-ai/naufal/mmsegmentation/data/cityscapes/ood_dataset/processed/cityscape_mural/train\"\n",
    "os.makedirs(processed_cityscape_mural_train_path, exist_ok=True)\n",
    "\n",
    "for filename in tqdm(cityscape_mural_train_accepted_list, desc=\"Processing Cityscape Mural Train Accepted\"):\n",
    "    # Get the image name\n",
    "    filename_wo_ext = filename.split(\".\")[0]\n",
    "    image_count, image_name, gen_image_idx = filename_wo_ext.split(\"-\")\n",
    "    cityname = image_name.split(\"_\")[0]\n",
    "\n",
    "    # Define output path\n",
    "    output_path = os.path.join(processed_cityscape_mural_train_path, cityname)\n",
    "    os.makedirs(output_path, exist_ok=True)\n",
    "\n",
    "    # Load the modified image\n",
    "    modified_image_path = os.path.join(cityscape_mural_train_image_path, f\"{filename_wo_ext}.png\")\n",
    "    modified_image = Image.open(modified_image_path).resize(original_size)\n",
    "\n",
    "    # Save the modified image\n",
    "    modified_image.save(os.path.join(output_path, f\"{image_name}_leftImg8bit.png\"))\n",
    "    "
   ]
  },
  {
   "cell_type": "code",
   "execution_count": null,
   "metadata": {},
   "outputs": [],
   "source": [
    "processed_cityscape_mural_val_path = \"/home/islab-ai/naufal/mmsegmentation/data/cityscapes/ood_dataset/processed/cityscape_mural/val\"\n",
    "os.makedirs(processed_cityscape_mural_val_path, exist_ok=True)\n",
    "\n",
    "for filename in tqdm(cityscape_mural_val_accepted_list, desc=\"Processing Cityscape Mural Train Accepted\"):\n",
    "    # Get the image name\n",
    "    filename_wo_ext = filename.split(\".\")[0]\n",
    "    image_count, image_name, gen_image_idx = filename_wo_ext.split(\"-\")\n",
    "    cityname = image_name.split(\"_\")[0]\n",
    "\n",
    "    # Define output path\n",
    "    output_path = os.path.join(processed_cityscape_mural_val_path, cityname)\n",
    "    os.makedirs(output_path, exist_ok=True)\n",
    "\n",
    "    # Load the modified image\n",
    "    modified_image_path = os.path.join(cityscape_mural_val_image_path, f\"{filename_wo_ext}.png\")\n",
    "    modified_image = Image.open(modified_image_path).resize(original_size)\n",
    "\n",
    "    # Save the modified image\n",
    "    modified_image.save(os.path.join(output_path, f\"{image_name}_leftImg8bit.png\"))\n",
    "    "
   ]
  }
 ],
 "metadata": {
  "kernelspec": {
   "display_name": "Python 3 (ipykernel)",
   "language": "python",
   "name": "python3"
  }
 },
 "nbformat": 4,
 "nbformat_minor": 2
}
